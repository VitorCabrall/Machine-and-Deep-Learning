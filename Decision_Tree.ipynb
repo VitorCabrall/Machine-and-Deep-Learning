{
  "nbformat": 4,
  "nbformat_minor": 0,
  "metadata": {
    "colab": {
      "provenance": [],
      "mount_file_id": "1x1FjnFVn5AI0F-VNBKSuONyqOy2ssrg5",
      "authorship_tag": "ABX9TyPCWrF9vCGNZtEX5Yk3xD2/",
      "include_colab_link": true
    },
    "kernelspec": {
      "name": "python3",
      "display_name": "Python 3"
    },
    "language_info": {
      "name": "python"
    }
  },
  "cells": [
    {
      "cell_type": "markdown",
      "metadata": {
        "id": "view-in-github",
        "colab_type": "text"
      },
      "source": [
        "<a href=\"https://colab.research.google.com/github/VitorCabrall/Machine-and-Deep-Learning/blob/main/Decision_Tree.ipynb\" target=\"_parent\"><img src=\"https://colab.research.google.com/assets/colab-badge.svg\" alt=\"Open In Colab\"/></a>"
      ]
    },
    {
      "cell_type": "code",
      "execution_count": null,
      "metadata": {
        "id": "mqcB1WI72r59"
      },
      "outputs": [],
      "source": [
        "import pandas as pd"
      ]
    }
  ]
}